{
 "cells": [
  {
   "cell_type": "code",
   "execution_count": 1,
   "id": "e22bd15f-9ea0-4d80-b4d7-87ecb799b6d5",
   "metadata": {},
   "outputs": [
    {
     "name": "stdout",
     "output_type": "stream",
     "text": [
      "Hello Ankita\n"
     ]
    }
   ],
   "source": [
    "print(\"Hello Ankita\")"
   ]
  },
  {
   "cell_type": "code",
   "execution_count": 2,
   "id": "28045107-2b33-423b-bd1e-1b8887435518",
   "metadata": {},
   "outputs": [],
   "source": [
    "n=1"
   ]
  },
  {
   "cell_type": "code",
   "execution_count": 3,
   "id": "337706ee-c6cb-4d54-a1cb-90dc0afc611b",
   "metadata": {},
   "outputs": [],
   "source": [
    "c=5"
   ]
  },
  {
   "cell_type": "code",
   "execution_count": 4,
   "id": "87be0c02-58bd-4b30-a975-4ac2ff4241a3",
   "metadata": {},
   "outputs": [],
   "source": [
    "b=n+c"
   ]
  },
  {
   "cell_type": "code",
   "execution_count": 5,
   "id": "1649d163-be97-46ff-8cc9-3c5870d84d24",
   "metadata": {},
   "outputs": [
    {
     "data": {
      "text/plain": [
       "6"
      ]
     },
     "execution_count": 5,
     "metadata": {},
     "output_type": "execute_result"
    }
   ],
   "source": [
    "b"
   ]
  },
  {
   "cell_type": "code",
   "execution_count": null,
   "id": "7aedc968-ff63-489d-89c9-f5e5f0a82077",
   "metadata": {},
   "outputs": [],
   "source": []
  }
 ],
 "metadata": {
  "kernelspec": {
   "display_name": "Python 3 (ipykernel)",
   "language": "python",
   "name": "python3"
  },
  "language_info": {
   "codemirror_mode": {
    "name": "ipython",
    "version": 3
   },
   "file_extension": ".py",
   "mimetype": "text/x-python",
   "name": "python",
   "nbconvert_exporter": "python",
   "pygments_lexer": "ipython3",
   "version": "3.10.8"
  }
 },
 "nbformat": 4,
 "nbformat_minor": 5
}
